{
 "cells": [
  {
   "cell_type": "markdown",
   "id": "ceb23218",
   "metadata": {},
   "source": [
    "# Student Performance EDA\n",
    "Exploratory Data Analysis of StudentPerformanceFactors dataset."
   ]
  },
  {
   "cell_type": "code",
   "execution_count": null,
   "id": "065e1f20",
   "metadata": {},
   "outputs": [],
   "source": [
    "import pandas as pd\n",
    "import seaborn as sns\n",
    "import matplotlib.pyplot as plt\n",
    "\n",
    "# Load dataset\n",
    "file_path = \"StudentPerformanceFactors(in).csv\"\n",
    "df = pd.read_csv(file_path)\n",
    "\n",
    "# Display first few rows\n",
    "df.head()\n"
   ]
  },
  {
   "cell_type": "code",
   "execution_count": null,
   "id": "85b0dfe9",
   "metadata": {},
   "outputs": [],
   "source": [
    "# Dataset structure\n",
    "df.info()\n",
    "\n",
    "# Check for null values\n",
    "df.isnull().sum()\n"
   ]
  },
  {
   "cell_type": "code",
   "execution_count": null,
   "id": "aa91572b",
   "metadata": {},
   "outputs": [],
   "source": [
    "# Summary statistics for numerical features\n",
    "df.describe()\n"
   ]
  },
  {
   "cell_type": "code",
   "execution_count": null,
   "id": "e0e260ea",
   "metadata": {},
   "outputs": [],
   "source": [
    "# Count unique values in categorical columns\n",
    "cat_cols = df.select_dtypes(include='object').columns.tolist()\n",
    "df[cat_cols].nunique()\n"
   ]
  },
  {
   "cell_type": "code",
   "execution_count": null,
   "id": "84f36255",
   "metadata": {},
   "outputs": [],
   "source": [
    "# Distribution of Exam Score\n",
    "sns.histplot(df['Exam_Score'], kde=True)\n",
    "plt.title(\"Distribution of Exam Score\")\n",
    "plt.xlabel(\"Exam Score\")\n",
    "plt.ylabel(\"Frequency\")\n",
    "plt.show()\n"
   ]
  },
  {
   "cell_type": "code",
   "execution_count": null,
   "id": "55c18dec",
   "metadata": {},
   "outputs": [],
   "source": [
    "# Scatter plots: Exam Score vs numerical features\n",
    "num_cols = ['Hours_Studied', 'Attendance', 'Sleep_Hours', 'Previous_Scores',\n",
    "            'Tutoring_Sessions', 'Family_Income', 'Teacher_Quality',\n",
    "            'Distance_from_Home', 'Physical_Activity']\n",
    "\n",
    "for col in num_cols:\n",
    "    sns.scatterplot(x=df[col], y=df['Exam_Score'])\n",
    "    plt.title(f'Exam Score vs {col}')\n",
    "    plt.xlabel(col)\n",
    "    plt.ylabel('Exam Score')\n",
    "    plt.show()\n"
   ]
  },
  {
   "cell_type": "code",
   "execution_count": null,
   "id": "79401221",
   "metadata": {},
   "outputs": [],
   "source": [
    "# Boxplots for Exam Score by categorical variables\n",
    "for col in cat_cols:\n",
    "    sns.boxplot(x=col, y='Exam_Score', data=df)\n",
    "    plt.title(f'Exam Score by {col}')\n",
    "    plt.xticks(rotation=45)\n",
    "    plt.show()\n"
   ]
  },
  {
   "cell_type": "code",
   "execution_count": null,
   "id": "288639a7",
   "metadata": {},
   "outputs": [],
   "source": [
    "# Correlation heatmap for numerical variables\n",
    "corr = df[num_cols + ['Exam_Score']].corr()\n",
    "sns.heatmap(corr, annot=True, cmap='coolwarm')\n",
    "plt.title('Correlation Heatmap')\n",
    "plt.show()\n"
   ]
  }
 ],
 "metadata": {},
 "nbformat": 4,
 "nbformat_minor": 5
}